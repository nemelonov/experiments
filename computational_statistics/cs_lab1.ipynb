{
 "cells": [
  {
   "cell_type": "code",
   "execution_count": 3,
   "metadata": {},
   "outputs": [
    {
     "name": "stdout",
     "output_type": "stream",
     "text": [
      "0.23 0.66 0.13 0.69 0.72 0.61 0.43 0.34 0.17 0.21 0.48 0.49 0.87 0.06\n"
     ]
    }
   ],
   "source": [
    "# Linear Congruent Generator\n",
    "\n",
    "def lcg(x1, x2, mod, n):\n",
    "    res = [x1 / 100, x2 / 100]\n",
    "    for i in range(n - 2):\n",
    "        number = (3 * x2 + 5 * x1) % mod\n",
    "        res.append(number / mod)\n",
    "        x1, x2 = x2, number\n",
    "    return res\n",
    "\n",
    "\n",
    "n = 14\n",
    "x1, x2 = 23, 66\n",
    "mod = 100\n",
    "print(*lcg(x1, x2, mod, n))"
   ]
  },
  {
   "cell_type": "code",
   "execution_count": 377,
   "metadata": {},
   "outputs": [
    {
     "name": "stdout",
     "output_type": "stream",
     "text": [
      "H0 принимается: сфинксы не более аллергенны\n"
     ]
    }
   ],
   "source": [
    "# Hypothesis Testing\n",
    "\n",
    "import random\n",
    "\n",
    "p = 0.95\n",
    "sphynx = 112\n",
    "results = []\n",
    "n = 1000               # необходимое количество симуляций\n",
    "for i in range(n):\n",
    "    pos_cases = 0\n",
    "    for j in range(120):\n",
    "        if random.random() < 0.95:\n",
    "            pos_cases += 1\n",
    "    results.append(pos_cases)\n",
    "results = sorted(results)\n",
    "critical = results[(round(n * (1 - p)) -1)]\n",
    "if sphynx < critical:\n",
    "    print('H0 отвергается: сфинксы более аллергенны')\n",
    "else:\n",
    "    print('H0 принимается: сфинксы не более аллергенны')"
   ]
  }
 ],
 "metadata": {
  "kernelspec": {
   "display_name": "Python 3",
   "language": "python",
   "name": "python3"
  },
  "language_info": {
   "codemirror_mode": {
    "name": "ipython",
    "version": 3
   },
   "file_extension": ".py",
   "mimetype": "text/x-python",
   "name": "python",
   "nbconvert_exporter": "python",
   "pygments_lexer": "ipython3",
   "version": "3.11.7"
  }
 },
 "nbformat": 4,
 "nbformat_minor": 2
}
